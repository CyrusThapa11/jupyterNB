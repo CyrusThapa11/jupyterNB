{
 "cells": [
  {
   "cell_type": "code",
   "execution_count": 2,
   "metadata": {},
   "outputs": [
    {
     "data": {
      "text/plain": [
       "list_iterator"
      ]
     },
     "execution_count": 2,
     "metadata": {},
     "output_type": "execute_result"
    }
   ],
   "source": [
    "ds = [2,33,4,24,4]\n",
    "s_iter = iter(ds)\n",
    "type(s_iter)"
   ]
  },
  {
   "cell_type": "code",
   "execution_count": 3,
   "metadata": {},
   "outputs": [
    {
     "data": {
      "text/plain": [
       "2"
      ]
     },
     "execution_count": 3,
     "metadata": {},
     "output_type": "execute_result"
    }
   ],
   "source": [
    "next(s_iter)"
   ]
  },
  {
   "cell_type": "code",
   "execution_count": 4,
   "metadata": {},
   "outputs": [],
   "source": [
    "class y_range:\n",
    "    def __init__ (self,n):\n",
    "        self.i = 0\n",
    "        self.n = n\n",
    "    #this method makes our class iterable :\n",
    "    def __iter__ (self):\n",
    "        return self\n",
    "    def __next__ (self):\n",
    "        if self.i < self.n:\n",
    "            i = self.i\n",
    "            self.i += 1\n",
    "            return i\n",
    "        else:\n",
    "            raise StopIteration()"
   ]
  },
  {
   "cell_type": "code",
   "execution_count": 5,
   "metadata": {},
   "outputs": [
    {
     "name": "stdout",
     "output_type": "stream",
     "text": [
      "0\n",
      "1\n",
      "2\n",
      "3\n",
      "4\n"
     ]
    }
   ],
   "source": [
    "for x in y_range(5):\n",
    "    print(x)"
   ]
  },
  {
   "cell_type": "code",
   "execution_count": null,
   "metadata": {},
   "outputs": [],
   "source": []
  },
  {
   "cell_type": "code",
   "execution_count": 2,
   "metadata": {},
   "outputs": [],
   "source": [
    "# iterators and generators :"
   ]
  },
  {
   "cell_type": "code",
   "execution_count": 3,
   "metadata": {},
   "outputs": [
    {
     "name": "stdout",
     "output_type": "stream",
     "text": [
      "1\n",
      "23\n",
      "[23, 54]\n",
      "43\n",
      "11\n",
      "56\n"
     ]
    }
   ],
   "source": [
    "a = [1 , 23, [23,54], 43,11,56]\n",
    "for x in a:\n",
    "    #performs some task on each elem !\n",
    "    print(x)"
   ]
  },
  {
   "cell_type": "code",
   "execution_count": 5,
   "metadata": {},
   "outputs": [
    {
     "name": "stdout",
     "output_type": "stream",
     "text": [
      "name\n",
      "last name\n",
      "makes\n"
     ]
    }
   ],
   "source": [
    "d = {'name':'abhi' , 'last name':'diman','makes':89}\n",
    "for p in d:\n",
    "    print(p)"
   ]
  },
  {
   "cell_type": "code",
   "execution_count": 6,
   "metadata": {},
   "outputs": [
    {
     "name": "stdout",
     "output_type": "stream",
     "text": [
      "hey bois\n",
      "\n",
      "wassup ppl\n",
      "\n",
      "oh na na na !\n",
      "\n",
      "yoooo!!\n"
     ]
    }
   ],
   "source": [
    "for line in open('ab1.txt',\"r\"):\n",
    "    print(line)\n"
   ]
  },
  {
   "cell_type": "code",
   "execution_count": 7,
   "metadata": {},
   "outputs": [
    {
     "data": {
      "text/plain": [
       "'a.b.c'"
      ]
     },
     "execution_count": 7,
     "metadata": {},
     "output_type": "execute_result"
    }
   ],
   "source": [
    "\".\".join(['a','b','c'])"
   ]
  },
  {
   "cell_type": "code",
   "execution_count": 8,
   "metadata": {},
   "outputs": [
    {
     "data": {
      "text/plain": [
       "'name.last name.makes'"
      ]
     },
     "execution_count": 8,
     "metadata": {},
     "output_type": "execute_result"
    }
   ],
   "source": [
    "\".\".join(d)"
   ]
  },
  {
   "cell_type": "code",
   "execution_count": 10,
   "metadata": {},
   "outputs": [
    {
     "data": {
      "text/plain": [
       "['j', 'a', 't', 'i', 'n']"
      ]
     },
     "execution_count": 10,
     "metadata": {},
     "output_type": "execute_result"
    }
   ],
   "source": [
    "s = list('jatin')\n",
    "s"
   ]
  },
  {
   "cell_type": "code",
   "execution_count": 11,
   "metadata": {},
   "outputs": [
    {
     "data": {
      "text/plain": [
       "48"
      ]
     },
     "execution_count": 11,
     "metadata": {},
     "output_type": "execute_result"
    }
   ],
   "source": [
    "f = [3,43,2]\n",
    "sum(f)"
   ]
  },
  {
   "cell_type": "code",
   "execution_count": 12,
   "metadata": {},
   "outputs": [
    {
     "data": {
      "text/plain": [
       "7"
      ]
     },
     "execution_count": 12,
     "metadata": {},
     "output_type": "execute_result"
    }
   ],
   "source": [
    "b = {1:'bahi',2:'hs',4:'naman'}\n",
    "sum(b)\n"
   ]
  },
  {
   "cell_type": "code",
   "execution_count": null,
   "metadata": {},
   "outputs": [],
   "source": [
    "# supervised learning and "
   ]
  },
  {
   "cell_type": "code",
   "execution_count": null,
   "metadata": {},
   "outputs": [],
   "source": [
    "# it has lablled data  --> generalise predicions on future data \n",
    "\"\"\"\n",
    "    avoid OVERFITTING\n",
    "    input and label are related (key value pairs)\n",
    "    \n",
    "    lable - discrete (1 / 0 predicting a fruit ? apple ?)\n",
    "          - continuous \n",
    "    \n",
    "    output of super vised learning has 2 op \n",
    "    - regression and   - classification !\n",
    "    - minimise error   - minimise missClassification !\n",
    "    -continuous        - has some discrete label \n",
    "    eg : housing       eg : apple / mango / guagava\n",
    "    price / stock      a set of class -> output\n",
    "    \n",
    "    training data --> algo --> function (h)\n",
    "        h(sample / testing data) --> prediction output\n",
    "    \n",
    "    to figure of algorithm ! - svm , nural m logistic , linear regg.\n",
    "    \n",
    "    -overfitting is a problem which is not generalized for \n",
    "    sample test cases !\n",
    "    - eg : spam detection / document classification\n",
    "    - science fiction , technology ... \n",
    "    - may get multiple class as output !\n",
    "    \n",
    "    - image classification , sequence / nlp\n",
    "    \n",
    "    \n",
    "    #UNSUPERVISED LEARNING !\n",
    "    - no table and labbled data \n",
    "    - needs to find patters itelf !\n",
    "    - making cluster !\n",
    "    -only data points and no output !\n",
    "    \n",
    "    # SEMI-SUPERVISED !\n",
    "    - we outself lable \n",
    "    - rule based learning !\n",
    "    \n",
    "    eg:object segmentation\n",
    "    similarity detection !\n",
    "    \n",
    "    \n",
    "    #REINFORCEMENT LEARINGN :\n",
    "    - hit and trial with feedback !\n",
    "    - agent / object -- knows how to do the work\n",
    "    / interacts with environment --> anything which is interactable !\n",
    "    - parameter form the environment\n",
    "    - agent will take some action on environment\n",
    "    - until final state is not over !\n",
    "    - to maximize the total reward for all time periods !\n",
    "    \n",
    "\"\"\""
   ]
  },
  {
   "cell_type": "code",
   "execution_count": 1,
   "metadata": {},
   "outputs": [
    {
     "name": "stdout",
     "output_type": "stream",
     "text": [
      "1 2 3 4 5\n"
     ]
    }
   ],
   "source": [
    "nums = input()"
   ]
  },
  {
   "cell_type": "code",
   "execution_count": 2,
   "metadata": {},
   "outputs": [
    {
     "name": "stdout",
     "output_type": "stream",
     "text": [
      "<class 'str'>\n"
     ]
    }
   ],
   "source": [
    "print(type(nums))"
   ]
  },
  {
   "cell_type": "code",
   "execution_count": 3,
   "metadata": {},
   "outputs": [],
   "source": [
    "nums = nums.split()"
   ]
  },
  {
   "cell_type": "code",
   "execution_count": 4,
   "metadata": {},
   "outputs": [
    {
     "name": "stdout",
     "output_type": "stream",
     "text": [
      "['1', '2', '3', '4', '5']\n"
     ]
    }
   ],
   "source": [
    "print(nums)"
   ]
  },
  {
   "cell_type": "code",
   "execution_count": 5,
   "metadata": {},
   "outputs": [
    {
     "name": "stdout",
     "output_type": "stream",
     "text": [
      "[1, 2, 3, 4, 5]\n"
     ]
    }
   ],
   "source": [
    "list_of_no = [int(x) for x in nums]\n",
    "print(list_of_no)"
   ]
  },
  {
   "cell_type": "code",
   "execution_count": 6,
   "metadata": {},
   "outputs": [
    {
     "name": "stdout",
     "output_type": "stream",
     "text": [
      "Bulbasaur\n",
      "nope\n",
      "invalid\n",
      "invalid\n",
      "invalid\n"
     ]
    }
   ],
   "source": [
    "for i in list_of_no:\n",
    "    if i == 1:\n",
    "        print('Bulbasaur')\n",
    "    elif i ==2 :\n",
    "        print('nope')\n",
    "    else:\n",
    "        print('invalid')"
   ]
  },
  {
   "cell_type": "code",
   "execution_count": 7,
   "metadata": {},
   "outputs": [],
   "source": [
    "pokemon = {\n",
    "    1:\"bublb\",\n",
    "    2:\"pika\",\n",
    "    3:'char'\n",
    "}"
   ]
  },
  {
   "cell_type": "code",
   "execution_count": 8,
   "metadata": {},
   "outputs": [
    {
     "data": {
      "text/plain": [
       "'pika'"
      ]
     },
     "execution_count": 8,
     "metadata": {},
     "output_type": "execute_result"
    }
   ],
   "source": [
    "pokemon[2]"
   ]
  },
  {
   "cell_type": "code",
   "execution_count": 10,
   "metadata": {},
   "outputs": [
    {
     "name": "stdout",
     "output_type": "stream",
     "text": [
      "not found \n"
     ]
    }
   ],
   "source": [
    "if pokemon.get(45) is None:\n",
    "    print('not found ')\n",
    "else:\n",
    "    print(pokemon[45])"
   ]
  },
  {
   "cell_type": "code",
   "execution_count": 11,
   "metadata": {},
   "outputs": [
    {
     "name": "stdout",
     "output_type": "stream",
     "text": [
      "bublb\n",
      "pika\n",
      "char\n",
      "not found \n",
      "not found \n"
     ]
    }
   ],
   "source": [
    "for i in list_of_no:\n",
    "    if pokemon.get(i) is None:\n",
    "        print('not found ')\n",
    "    else:\n",
    "        print(pokemon[i])"
   ]
  },
  {
   "cell_type": "code",
   "execution_count": 12,
   "metadata": {},
   "outputs": [],
   "source": [
    "poke = [('bulb',233),('charm',23,44)]"
   ]
  },
  {
   "cell_type": "code",
   "execution_count": 13,
   "metadata": {},
   "outputs": [
    {
     "data": {
      "text/plain": [
       "('charm', 23, 44)"
      ]
     },
     "execution_count": 13,
     "metadata": {},
     "output_type": "execute_result"
    }
   ],
   "source": [
    "poke[1]"
   ]
  },
  {
   "cell_type": "code",
   "execution_count": null,
   "metadata": {},
   "outputs": [],
   "source": []
  }
 ],
 "metadata": {
  "kernelspec": {
   "display_name": "Python 3",
   "language": "python",
   "name": "python3"
  },
  "language_info": {
   "codemirror_mode": {
    "name": "ipython",
    "version": 3
   },
   "file_extension": ".py",
   "mimetype": "text/x-python",
   "name": "python",
   "nbconvert_exporter": "python",
   "pygments_lexer": "ipython3",
   "version": "3.8.6"
  }
 },
 "nbformat": 4,
 "nbformat_minor": 4
}
