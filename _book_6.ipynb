{
 "cells": [
  {
   "cell_type": "code",
   "execution_count": null,
   "metadata": {},
   "outputs": [],
   "source": [
    "# oops :"
   ]
  },
  {
   "cell_type": "code",
   "execution_count": null,
   "metadata": {},
   "outputs": [],
   "source": [
    "#1.Encapsulation: we should combine all common values in common class\n",
    "#2.Abstraction: certain functionlity which need not to be put up\n",
    "# may not know actual evaluation but the signature :\n",
    "#3.Inheritence:we can further extrace the fucns from different classes\n",
    "#4.Polymorphism : given object can exist in multiple form\n",
    "#same objects can exist in different form :\n",
    "#eg: add(int,int)\n",
    "# add(float,float)"
   ]
  },
  {
   "cell_type": "code",
   "execution_count": 3,
   "metadata": {},
   "outputs": [
    {
     "name": "stdout",
     "output_type": "stream",
     "text": [
      "True\n",
      "True\n",
      "<__main__.P object at 0x7f30f27c6910>\n"
     ]
    }
   ],
   "source": [
    "b = 4\n",
    "class P:\n",
    "    pass#empty body \n",
    "a = P()\n",
    "print(isinstance(a,object))\n",
    "print(isinstance(b,object))\n",
    "# iscallable == True\n",
    "print(a)"
   ]
  },
  {
   "cell_type": "code",
   "execution_count": null,
   "metadata": {},
   "outputs": [],
   "source": [
    "# every method of class requires the context of the object !"
   ]
  },
  {
   "cell_type": "code",
   "execution_count": 5,
   "metadata": {},
   "outputs": [
    {
     "name": "stdout",
     "output_type": "stream",
     "text": [
      " hi my name is :  abhi\n"
     ]
    }
   ],
   "source": [
    "class person:\n",
    "    name = 'abhi'\n",
    "    def hi(self):\n",
    "        print(' hi my name is : ',self.name)\n",
    "p = person()\n",
    "p.hi()"
   ]
  },
  {
   "cell_type": "code",
   "execution_count": 6,
   "metadata": {},
   "outputs": [
    {
     "name": "stdout",
     "output_type": "stream",
     "text": [
      " hi my name is :  abhi\n"
     ]
    }
   ],
   "source": [
    "# it is also equal to :\n",
    "person.hi(p)"
   ]
  },
  {
   "cell_type": "code",
   "execution_count": 10,
   "metadata": {},
   "outputs": [
    {
     "name": "stdout",
     "output_type": "stream",
     "text": [
      " hi my name is :  abhishek\n"
     ]
    }
   ],
   "source": [
    "class person2:\n",
    "    name = 'abhi'\n",
    "    # this is not a constructor:\n",
    "    def __init__(self,name):\n",
    "        #print('new obj created :')\n",
    "        self.name = name\n",
    "    def hi(self):\n",
    "        print(' hi my name is : ',self.name)\n",
    "    \n",
    "p2 = person2('abhishek')\n",
    "p2.hi()\n",
    "# also called dunders or magic fx"
   ]
  },
  {
   "cell_type": "code",
   "execution_count": null,
   "metadata": {},
   "outputs": [],
   "source": [
    "# lifecycle of the objecr :\n",
    "#1.created\n",
    "#n.deleted\n",
    "#2. string\n",
    "#3.add\n",
    "#4. sub\n",
    "# __init__(self)\n",
    "# __del__(self)\n",
    "# __del__(self,other)\n",
    "\"\"\"\n",
    "a+b --> a.__add__(b)\n",
    "str(a)\n",
    "a.__str()__()\n",
    "we dont have opr overloading but only overriding !\n",
    "\"\"\""
   ]
  },
  {
   "cell_type": "code",
   "execution_count": 17,
   "metadata": {},
   "outputs": [
    {
     "data": {
      "text/plain": [
       "True"
      ]
     },
     "execution_count": 17,
     "metadata": {},
     "output_type": "execute_result"
    }
   ],
   "source": [
    "class Car:\n",
    "    def __init__(self,mode,mil):\n",
    "        self.model = mode\n",
    "        self.mileage = mil\n",
    "        \n",
    "    def __str__(self):\n",
    "        return \"{} {}\".fomat(self.model, self.mileage)\n",
    "    \n",
    "    def __repr__(self):\n",
    "        return \"{}\".format(self.model)\n",
    "    \n",
    "    def __eq__(self,other):\n",
    "        return self.mileage == other.mileage\n",
    "    \n",
    "    def __add__(self,other):\n",
    "        return self.mileage + other.mileage\n",
    "\n",
    "c1 = Car('a',2)\n",
    "c2 = Car('b',2)\n",
    "print(c1 + c2)\n",
    "print(c1 == c2)"
   ]
  },
  {
   "cell_type": "code",
   "execution_count": null,
   "metadata": {},
   "outputs": [],
   "source": [
    "#cout << 'abhi'"
   ]
  },
  {
   "cell_type": "code",
   "execution_count": 28,
   "metadata": {},
   "outputs": [
    {
     "name": "stdout",
     "output_type": "stream",
     "text": [
      "4 hi"
     ]
    },
    {
     "data": {
      "text/plain": [
       "<__main__.Ostream at 0x7f30f1f81910>"
      ]
     },
     "execution_count": 28,
     "metadata": {},
     "output_type": "execute_result"
    }
   ],
   "source": [
    "class Ostream:\n",
    "    def __lshift__(self,other): # these are dunders and magic methods:\n",
    "        print(other,end = '')\n",
    "        return self\n",
    "cout = Ostream()\n",
    "cout << 4 << ' hi'"
   ]
  },
  {
   "cell_type": "code",
   "execution_count": 33,
   "metadata": {},
   "outputs": [],
   "source": [
    "class Dog:\n",
    "    kind = 'abcd' # immutable so points to diff memo location:\n",
    "    \n",
    "    def __init__(self,n):\n",
    "        self.name = n"
   ]
  },
  {
   "cell_type": "code",
   "execution_count": 35,
   "metadata": {},
   "outputs": [
    {
     "name": "stdout",
     "output_type": "stream",
     "text": [
      "abcd\n"
     ]
    }
   ],
   "source": [
    "d = Dog('tuff')\n",
    "print(d.kind)"
   ]
  },
  {
   "cell_type": "code",
   "execution_count": 36,
   "metadata": {},
   "outputs": [
    {
     "name": "stdout",
     "output_type": "stream",
     "text": [
      "abcd\n"
     ]
    }
   ],
   "source": [
    "e = Dog('maxx')\n",
    "print(e.kind)"
   ]
  },
  {
   "cell_type": "code",
   "execution_count": 38,
   "metadata": {},
   "outputs": [
    {
     "name": "stdout",
     "output_type": "stream",
     "text": [
      "efgh\n",
      "abcd\n"
     ]
    }
   ],
   "source": [
    "e.kind = 'efgh' # now it points to new memo location !\n",
    "print(e.kind)\n",
    "print(d.kind)# first objects are called and then __init__ iscalled !!"
   ]
  },
  {
   "cell_type": "code",
   "execution_count": 51,
   "metadata": {},
   "outputs": [],
   "source": [
    "class Dog2:\n",
    "    tricks=[] # this is mutable  to it will point to same memo location\n",
    "    def __init__(self,na):\n",
    "        self.name = na\n",
    "    def add_tr(self,trick):\n",
    "        self.tricks.append(trick)"
   ]
  },
  {
   "cell_type": "code",
   "execution_count": 52,
   "metadata": {},
   "outputs": [
    {
     "name": "stdout",
     "output_type": "stream",
     "text": [
      "['jump', 'cook']\n",
      "['jump', 'cook']\n"
     ]
    }
   ],
   "source": [
    "a = Dog2('max')\n",
    "b = Dog2('Noni')\n",
    "a.add_tr('jump')\n",
    "a.add_tr('cook')\n",
    "print(a.tricks)\n",
    "print(b.tricks) # ye kya ho gya 1??1!"
   ]
  },
  {
   "cell_type": "code",
   "execution_count": 64,
   "metadata": {},
   "outputs": [
    {
     "name": "stdout",
     "output_type": "stream",
     "text": [
      "139848464385536\n",
      "139848464385536\n",
      "139848464385536\n"
     ]
    }
   ],
   "source": [
    "print(id(Dog2.tricks))\n",
    "print(id(b.tricks))\n",
    "print(id(a.tricks)) # all point to same memo location :"
   ]
  },
  {
   "cell_type": "code",
   "execution_count": 76,
   "metadata": {},
   "outputs": [
    {
     "name": "stdout",
     "output_type": "stream",
     "text": [
      "['jump', 'cook']\n",
      "[]\n"
     ]
    }
   ],
   "source": [
    "class Dog3:\n",
    "    #tricks=[] # this is mutable  to it will point to same memo location\n",
    "    def __init__(self,na):\n",
    "        self.name = na\n",
    "        self.tricks = []\n",
    "    def add_tr(self,trick):\n",
    "        self.tricks.append(trick)\n",
    "        \n",
    "a = Dog2('max')\n",
    "b = Dog2('Noni')\n",
    "a.add_tr('jump')\n",
    "a.add_tr('cook')\n",
    "#print(a.tricks)\n",
    "#print(b.tricks)   \n",
    "#b.tricks\n",
    "del a\n",
    "del b\n",
    "\"\"\"\n",
    "c = Dog2('max')\n",
    "d = Dog2('Noni')\n",
    "c.add_tr('jump')\n",
    "c.add_tr('cook')\n",
    "print(c.tricks)\n",
    "print(d.tricks)\"\"\"\n",
    "\n",
    "ax= Dog3('max')\n",
    "bx = Dog3('Noni')\n",
    "ax.add_tr('jump')\n",
    "ax.add_tr('cook')\n",
    "print(ax.tricks)\n",
    "print(bx.tricks)   \n"
   ]
  },
  {
   "cell_type": "code",
   "execution_count": 79,
   "metadata": {},
   "outputs": [],
   "source": [
    "class scTeacher:\n",
    "    ''' rep any school member: '''\n",
    "    def __init__(self,name,age): # not a consturctor , when it gets \n",
    "        # instanciated dungers !\n",
    "        self.name = name\n",
    "        self.age = age\n",
    "        print(\"initialized: {}\".format(self.name))\n",
    "    def tell(self):\n",
    "        \"\"\" tell deails \"\"\"\n",
    "        print(\"Name : {} , Age : {}\".format(self.name,self.age),end = '')\n",
    "    "
   ]
  },
  {
   "cell_type": "code",
   "execution_count": 81,
   "metadata": {},
   "outputs": [
    {
     "name": "stdout",
     "output_type": "stream",
     "text": [
      "initialized: abhi\n"
     ]
    }
   ],
   "source": [
    "t1 = scTeacher('abhi',20)"
   ]
  },
  {
   "cell_type": "code",
   "execution_count": 82,
   "metadata": {},
   "outputs": [
    {
     "name": "stdout",
     "output_type": "stream",
     "text": [
      "Name : abhi , Age : 20"
     ]
    }
   ],
   "source": [
    "t1.tell()"
   ]
  },
  {
   "cell_type": "code",
   "execution_count": null,
   "metadata": {},
   "outputs": [],
   "source": []
  },
  {
   "cell_type": "code",
   "execution_count": null,
   "metadata": {},
   "outputs": [],
   "source": []
  },
  {
   "cell_type": "code",
   "execution_count": null,
   "metadata": {},
   "outputs": [],
   "source": []
  },
  {
   "cell_type": "code",
   "execution_count": null,
   "metadata": {},
   "outputs": [],
   "source": []
  },
  {
   "cell_type": "code",
   "execution_count": null,
   "metadata": {},
   "outputs": [],
   "source": []
  },
  {
   "cell_type": "code",
   "execution_count": null,
   "metadata": {},
   "outputs": [],
   "source": []
  }
 ],
 "metadata": {
  "kernelspec": {
   "display_name": "Python 3",
   "language": "python",
   "name": "python3"
  },
  "language_info": {
   "codemirror_mode": {
    "name": "ipython",
    "version": 3
   },
   "file_extension": ".py",
   "mimetype": "text/x-python",
   "name": "python",
   "nbconvert_exporter": "python",
   "pygments_lexer": "ipython3",
   "version": "3.8.6"
  }
 },
 "nbformat": 4,
 "nbformat_minor": 4
}
