{
 "cells": [
  {
   "cell_type": "code",
   "execution_count": null,
   "metadata": {},
   "outputs": [],
   "source": [
    "# face recognition using some classification algo : logistic / knn / svm\n",
    "# 1. READ A VIDEO STREAM USING OPEN CV.\n",
    "# 2. EXTRACT FACES OUT OF IT .\n",
    "# 3. LOAD THE TRAINIGN DATA (NUMPY ARRAYS OF ALL THE PERSONS )\n",
    "    # X - CALUES ARE STORED IN THE NUMPY ARRAYS \n",
    "    # Y - VALUES WE NEED TO ASSIGN FOR EACH PERSON !\n",
    "# 4. USE KNN TO FIND THE PREDICTION OF FACE (INT)\n",
    "# 5. MAP THE PREDICTED ID TO NAME OF THE USER !\n",
    "# 6. DISPLAY THE PREDICTIONS ON THE SCREEN - BOUNDING BOX AND NAME !\n"
   ]
  },
  {
   "cell_type": "code",
   "execution_count": null,
   "metadata": {},
   "outputs": [],
   "source": []
  },
  {
   "cell_type": "code",
   "execution_count": null,
   "metadata": {},
   "outputs": [],
   "source": []
  },
  {
   "cell_type": "code",
   "execution_count": null,
   "metadata": {},
   "outputs": [],
   "source": []
  },
  {
   "cell_type": "code",
   "execution_count": null,
   "metadata": {},
   "outputs": [],
   "source": []
  },
  {
   "cell_type": "code",
   "execution_count": null,
   "metadata": {},
   "outputs": [],
   "source": []
  },
  {
   "cell_type": "code",
   "execution_count": null,
   "metadata": {},
   "outputs": [],
   "source": []
  }
 ],
 "metadata": {
  "kernelspec": {
   "display_name": "Python 3",
   "language": "python",
   "name": "python3"
  },
  "language_info": {
   "codemirror_mode": {
    "name": "ipython",
    "version": 3
   },
   "file_extension": ".py",
   "mimetype": "text/x-python",
   "name": "python",
   "nbconvert_exporter": "python",
   "pygments_lexer": "ipython3",
   "version": "3.8.6"
  }
 },
 "nbformat": 4,
 "nbformat_minor": 4
}
